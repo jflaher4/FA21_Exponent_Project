{
 "cells": [
  {
   "cell_type": "code",
   "execution_count": 23,
   "metadata": {},
   "outputs": [],
   "source": [
    "import pandas as pd\n",
    "import numpy as np\n",
    "import math\n",
    "import sklearn\n",
    "import seaborn as sns\n",
    "import matplotlib.pyplot as plt\n",
    "from scipy import stats\n",
    "from scipy.stats import norm, skew, probplot\n",
    "from sklearn.model_selection import train_test_split\n",
    "from sklearn import metrics\n",
    "from sklearn.compose import make_column_transformer\n",
    "from sklearn.preprocessing import OneHotEncoder"
   ]
  },
  {
   "cell_type": "code",
   "execution_count": 24,
   "metadata": {},
   "outputs": [
    {
     "data": {
      "text/html": [
       "<div>\n",
       "<style scoped>\n",
       "    .dataframe tbody tr th:only-of-type {\n",
       "        vertical-align: middle;\n",
       "    }\n",
       "\n",
       "    .dataframe tbody tr th {\n",
       "        vertical-align: top;\n",
       "    }\n",
       "\n",
       "    .dataframe thead th {\n",
       "        text-align: right;\n",
       "    }\n",
       "</style>\n",
       "<table border=\"1\" class=\"dataframe\">\n",
       "  <thead>\n",
       "    <tr style=\"text-align: right;\">\n",
       "      <th></th>\n",
       "      <th>Id</th>\n",
       "      <th>MSSubClass</th>\n",
       "      <th>MSZoning</th>\n",
       "      <th>LotFrontage</th>\n",
       "      <th>LotArea</th>\n",
       "      <th>Street</th>\n",
       "      <th>Alley</th>\n",
       "      <th>LotShape</th>\n",
       "      <th>LandContour</th>\n",
       "      <th>Utilities</th>\n",
       "      <th>...</th>\n",
       "      <th>PoolQC</th>\n",
       "      <th>Fence</th>\n",
       "      <th>MiscFeature</th>\n",
       "      <th>MiscVal</th>\n",
       "      <th>MoSold</th>\n",
       "      <th>YrSold</th>\n",
       "      <th>SaleType</th>\n",
       "      <th>SaleCondition</th>\n",
       "      <th>SalePrice</th>\n",
       "      <th>LogSalePrice</th>\n",
       "    </tr>\n",
       "  </thead>\n",
       "  <tbody>\n",
       "    <tr>\n",
       "      <th>0</th>\n",
       "      <td>1</td>\n",
       "      <td>60</td>\n",
       "      <td>RL</td>\n",
       "      <td>65.0</td>\n",
       "      <td>8450</td>\n",
       "      <td>Pave</td>\n",
       "      <td>NaN</td>\n",
       "      <td>Reg</td>\n",
       "      <td>Lvl</td>\n",
       "      <td>AllPub</td>\n",
       "      <td>...</td>\n",
       "      <td>NaN</td>\n",
       "      <td>NaN</td>\n",
       "      <td>NaN</td>\n",
       "      <td>0</td>\n",
       "      <td>2</td>\n",
       "      <td>2008</td>\n",
       "      <td>WD</td>\n",
       "      <td>Normal</td>\n",
       "      <td>208500</td>\n",
       "      <td>12.247694</td>\n",
       "    </tr>\n",
       "    <tr>\n",
       "      <th>1</th>\n",
       "      <td>2</td>\n",
       "      <td>20</td>\n",
       "      <td>RL</td>\n",
       "      <td>80.0</td>\n",
       "      <td>9600</td>\n",
       "      <td>Pave</td>\n",
       "      <td>NaN</td>\n",
       "      <td>Reg</td>\n",
       "      <td>Lvl</td>\n",
       "      <td>AllPub</td>\n",
       "      <td>...</td>\n",
       "      <td>NaN</td>\n",
       "      <td>NaN</td>\n",
       "      <td>NaN</td>\n",
       "      <td>0</td>\n",
       "      <td>5</td>\n",
       "      <td>2007</td>\n",
       "      <td>WD</td>\n",
       "      <td>Normal</td>\n",
       "      <td>181500</td>\n",
       "      <td>12.109011</td>\n",
       "    </tr>\n",
       "    <tr>\n",
       "      <th>2</th>\n",
       "      <td>3</td>\n",
       "      <td>60</td>\n",
       "      <td>RL</td>\n",
       "      <td>68.0</td>\n",
       "      <td>11250</td>\n",
       "      <td>Pave</td>\n",
       "      <td>NaN</td>\n",
       "      <td>IR1</td>\n",
       "      <td>Lvl</td>\n",
       "      <td>AllPub</td>\n",
       "      <td>...</td>\n",
       "      <td>NaN</td>\n",
       "      <td>NaN</td>\n",
       "      <td>NaN</td>\n",
       "      <td>0</td>\n",
       "      <td>9</td>\n",
       "      <td>2008</td>\n",
       "      <td>WD</td>\n",
       "      <td>Normal</td>\n",
       "      <td>223500</td>\n",
       "      <td>12.317167</td>\n",
       "    </tr>\n",
       "    <tr>\n",
       "      <th>3</th>\n",
       "      <td>4</td>\n",
       "      <td>70</td>\n",
       "      <td>RL</td>\n",
       "      <td>60.0</td>\n",
       "      <td>9550</td>\n",
       "      <td>Pave</td>\n",
       "      <td>NaN</td>\n",
       "      <td>IR1</td>\n",
       "      <td>Lvl</td>\n",
       "      <td>AllPub</td>\n",
       "      <td>...</td>\n",
       "      <td>NaN</td>\n",
       "      <td>NaN</td>\n",
       "      <td>NaN</td>\n",
       "      <td>0</td>\n",
       "      <td>2</td>\n",
       "      <td>2006</td>\n",
       "      <td>WD</td>\n",
       "      <td>Abnorml</td>\n",
       "      <td>140000</td>\n",
       "      <td>11.849398</td>\n",
       "    </tr>\n",
       "    <tr>\n",
       "      <th>4</th>\n",
       "      <td>5</td>\n",
       "      <td>60</td>\n",
       "      <td>RL</td>\n",
       "      <td>84.0</td>\n",
       "      <td>14260</td>\n",
       "      <td>Pave</td>\n",
       "      <td>NaN</td>\n",
       "      <td>IR1</td>\n",
       "      <td>Lvl</td>\n",
       "      <td>AllPub</td>\n",
       "      <td>...</td>\n",
       "      <td>NaN</td>\n",
       "      <td>NaN</td>\n",
       "      <td>NaN</td>\n",
       "      <td>0</td>\n",
       "      <td>12</td>\n",
       "      <td>2008</td>\n",
       "      <td>WD</td>\n",
       "      <td>Normal</td>\n",
       "      <td>250000</td>\n",
       "      <td>12.429216</td>\n",
       "    </tr>\n",
       "  </tbody>\n",
       "</table>\n",
       "<p>5 rows × 82 columns</p>\n",
       "</div>"
      ],
      "text/plain": [
       "   Id  MSSubClass MSZoning  LotFrontage  LotArea Street Alley LotShape  \\\n",
       "0   1          60       RL         65.0     8450   Pave   NaN      Reg   \n",
       "1   2          20       RL         80.0     9600   Pave   NaN      Reg   \n",
       "2   3          60       RL         68.0    11250   Pave   NaN      IR1   \n",
       "3   4          70       RL         60.0     9550   Pave   NaN      IR1   \n",
       "4   5          60       RL         84.0    14260   Pave   NaN      IR1   \n",
       "\n",
       "  LandContour Utilities  ... PoolQC Fence MiscFeature MiscVal MoSold YrSold  \\\n",
       "0         Lvl    AllPub  ...    NaN   NaN         NaN       0      2   2008   \n",
       "1         Lvl    AllPub  ...    NaN   NaN         NaN       0      5   2007   \n",
       "2         Lvl    AllPub  ...    NaN   NaN         NaN       0      9   2008   \n",
       "3         Lvl    AllPub  ...    NaN   NaN         NaN       0      2   2006   \n",
       "4         Lvl    AllPub  ...    NaN   NaN         NaN       0     12   2008   \n",
       "\n",
       "  SaleType  SaleCondition  SalePrice  LogSalePrice  \n",
       "0       WD         Normal     208500     12.247694  \n",
       "1       WD         Normal     181500     12.109011  \n",
       "2       WD         Normal     223500     12.317167  \n",
       "3       WD        Abnorml     140000     11.849398  \n",
       "4       WD         Normal     250000     12.429216  \n",
       "\n",
       "[5 rows x 82 columns]"
      ]
     },
     "execution_count": 24,
     "metadata": {},
     "output_type": "execute_result"
    }
   ],
   "source": [
    "df = pd.read_csv('/Users/robertx/Desktop/_/Sophmore-Fall/FA21_Exponent_Project/Data/train.csv')\n",
    "test = pd.read_csv('/Users/robertx/Desktop/_/Sophmore-Fall/FA21_Exponent_Project/Data/test.csv')\n",
    "df['LogSalePrice'] = np.log(df['SalePrice'])\n",
    "df.head()"
   ]
  },
  {
   "cell_type": "code",
   "execution_count": 25,
   "metadata": {},
   "outputs": [
    {
     "data": {
      "text/plain": [
       "<matplotlib.axes._subplots.AxesSubplot at 0x7f8c3f99a1f0>"
      ]
     },
     "execution_count": 25,
     "metadata": {},
     "output_type": "execute_result"
    },
    {
     "data": {
      "image/png": "[encoded data removed]",
      "text/plain": [
       "<Figure size 432x288 with 1 Axes>"
      ]
     },
     "metadata": {
      "needs_background": "light"
     },
     "output_type": "display_data"
    }
   ],
   "source": [
    "sns.distplot(df.SalePrice,fit=norm)"
   ]
  },
  {
   "cell_type": "code",
   "execution_count": 100,
   "metadata": {},
   "outputs": [
    {
     "data": {
      "text/plain": [
       "<matplotlib.axes._subplots.AxesSubplot at 0x7f8c40b71eb0>"
      ]
     },
     "execution_count": 100,
     "metadata": {},
     "output_type": "execute_result"
    },
    {
     "data": {
      "image/png": "[encoded data removed]",
      "text/plain": [
       "<Figure size 432x288 with 1 Axes>"
      ]
     },
     "metadata": {
      "needs_background": "light"
     },
     "output_type": "display_data"
    }
   ],
   "source": [
    "sns.distplot(df.LogSalePrice,fit=norm)"
   ]
  },
  {
   "cell_type": "code",
   "execution_count": 136,
   "metadata": {
    "scrolled": true
   },
   "outputs": [
    {
     "data": {
      "text/plain": [
       "['OverallQual',\n",
       " 'GrLivArea',\n",
       " 'GarageCars',\n",
       " 'GarageArea',\n",
       " 'TotalBsmtSF',\n",
       " '1stFlrSF',\n",
       " 'FullBath',\n",
       " 'YearBuilt',\n",
       " 'YearRemodAdd',\n",
       " 'GarageYrBlt',\n",
       " 'TotRmsAbvGrd',\n",
       " 'Fireplaces',\n",
       " 'MasVnrArea',\n",
       " 'BsmtFinSF1',\n",
       " 'LotFrontage',\n",
       " 'WoodDeckSF',\n",
       " 'OpenPorchSF',\n",
       " '2ndFlrSF',\n",
       " 'HalfBath',\n",
       " 'LotArea',\n",
       " 'BsmtFullBath',\n",
       " 'BsmtUnfSF',\n",
       " 'BedroomAbvGr',\n",
       " 'ScreenPorch',\n",
       " 'PoolArea',\n",
       " 'MoSold',\n",
       " '3SsnPorch',\n",
       " 'BsmtFinSF2',\n",
       " 'BsmtHalfBath',\n",
       " 'Id',\n",
       " 'MiscVal',\n",
       " 'OverallCond',\n",
       " 'YrSold',\n",
       " 'LowQualFinSF',\n",
       " 'MSSubClass',\n",
       " 'KitchenAbvGr',\n",
       " 'EnclosedPorch',\n",
       " 'Neighborhood']"
      ]
     },
     "execution_count": 136,
     "metadata": {},
     "output_type": "execute_result"
    }
   ],
   "source": [
    "corrmat = df.corr()\n",
    "corrs = list(corrmat.nlargest(50,'LogSalePrice')['LogSalePrice'].index)[2:]\n",
    "if 'Neighborhood' not in corrs:\n",
    "    corrs.append('Neighborhood')\n",
    "corrs"
   ]
  },
  {
   "cell_type": "code",
   "execution_count": 137,
   "metadata": {},
   "outputs": [],
   "source": [
    "x_train, x_test, y_train, y_test = train_test_split(df[corrs], df.LogSalePrice, test_size = 0.4, random_state = 0)\n",
    "column_trans = make_column_transformer((OneHotEncoder(), ['Neighborhood']), remainder = 'passthrough')\n",
    "x_train.fillna(0,inplace=True)\n",
    "y_train.fillna(0,inplace=True)\n",
    "x_test.fillna(0,inplace=True)"
   ]
  },
  {
   "cell_type": "code",
   "execution_count": 138,
   "metadata": {},
   "outputs": [
    {
     "data": {
      "text/plain": [
       "0.8479983578079485"
      ]
     },
     "execution_count": 138,
     "metadata": {},
     "output_type": "execute_result"
    }
   ],
   "source": [
    "from sklearn.linear_model import Ridge\n",
    "from sklearn.metrics import r2_score\n",
    "from sklearn.pipeline import make_pipeline\n",
    "ridgereg = Ridge(alpha=0.45,normalize=True)\n",
    "regression = make_pipeline(column_trans, ridgereg)\n",
    "regression.fit(x_train,y_train)\n",
    "y_pred = regression.predict(x_test)\n",
    "r2_score(y_test, y_pred)"
   ]
  },
  {
   "cell_type": "code",
   "execution_count": 139,
   "metadata": {},
   "outputs": [
    {
     "data": {
      "image/png": "[encoded data removed]",
      "text/plain": [
       "<Figure size 432x288 with 1 Axes>"
      ]
     },
     "metadata": {
      "needs_background": "light"
     },
     "output_type": "display_data"
    }
   ],
   "source": [
    "# Plot the results\n",
    "plt.scatter(y_test, y_pred)\n",
    "plt.xlabel('Actual')\n",
    "plt.ylabel('Predicted')\n",
    "plt.title('Actual vs. Predicted')\n",
    "plt.show()"
   ]
  },
  {
   "cell_type": "code",
   "execution_count": 148,
   "metadata": {},
   "outputs": [
    {
     "data": {
      "image/png": "[encoded data removed]",
      "text/plain": [
       "<Figure size 432x288 with 1 Axes>"
      ]
     },
     "metadata": {
      "needs_background": "light"
     },
     "output_type": "display_data"
    }
   ],
   "source": [
    "resid = y_test - y_pred\n",
    "plt.scatter(y_test, resid)\n",
    "plt.xlabel('Actual Price')\n",
    "plt.ylabel('Residual')\n",
    "plt.title('Residuals')\n",
    "plt.axhline(y=0, color='r', linestyle='-')\n",
    "plt.xlim([10, 15])\n",
    "plt.ylim([-3,3])\n",
    "plt.show()"
   ]
  },
  {
   "cell_type": "code",
   "execution_count": 141,
   "metadata": {},
   "outputs": [
    {
     "data": {
      "text/plain": [
       "\"\\nalphas = list(np.arange(0,1,0.05))\\nnum_vars = list(np.arange(30,70,1))\\nresults = {}\\nfor a in alphas:\\n    for b in num_vars:\\n        corrs = list(corrmat.nlargest(b,'LogSalePrice')['LogSalePrice'].index)[2:]\\n        if 'Neighborhood' not in corrs:\\n            corrs.append('Neighborhood')\\n        x_train, x_test, y_train, y_test = train_test_split(df[corrs], df.LogSalePrice, test_size = 0.4, random_state = 0)\\n        column_trans = make_column_transformer((OneHotEncoder(), ['Neighborhood']), remainder = 'passthrough')\\n        x_train.fillna(0,inplace=True)\\n        y_train.fillna(0,inplace=True)\\n        x_test.fillna(0,inplace=True)\\n        ridgereg = Ridge(alpha=0.45,normalize=True)\\n        regression = make_pipeline(column_trans, ridgereg)\\n        regression.fit(x_train,y_train)\\n        y_pred = regression.predict(x_test)\\n        index = str(a)+','+str(b)\\n        results[index]=r2_score(y_test,y_pred)\\n\\nmax_key = max(results, key=results.get)\\nprint(max_key)\\nprint(results[max_key])\\n\""
      ]
     },
     "execution_count": 141,
     "metadata": {},
     "output_type": "execute_result"
    }
   ],
   "source": [
    "'''\n",
    "alphas = list(np.arange(0,1,0.05))\n",
    "num_vars = list(np.arange(30,70,1))\n",
    "results = {}\n",
    "for a in alphas:\n",
    "    for b in num_vars:\n",
    "        corrs = list(corrmat.nlargest(b,'LogSalePrice')['LogSalePrice'].index)[2:]\n",
    "        if 'Neighborhood' not in corrs:\n",
    "            corrs.append('Neighborhood')\n",
    "        x_train, x_test, y_train, y_test = train_test_split(df[corrs], df.LogSalePrice, test_size = 0.4, random_state = 0)\n",
    "        column_trans = make_column_transformer((OneHotEncoder(), ['Neighborhood']), remainder = 'passthrough')\n",
    "        x_train.fillna(0,inplace=True)\n",
    "        y_train.fillna(0,inplace=True)\n",
    "        x_test.fillna(0,inplace=True)\n",
    "        ridgereg = Ridge(alpha=0.45,normalize=True)\n",
    "        regression = make_pipeline(column_trans, ridgereg)\n",
    "        regression.fit(x_train,y_train)\n",
    "        y_pred = regression.predict(x_test)\n",
    "        index = str(a)+','+str(b)\n",
    "        results[index]=r2_score(y_test,y_pred)\n",
    "\n",
    "max_key = max(results, key=results.get)\n",
    "print(max_key)\n",
    "print(results[max_key])\n",
    "'''"
   ]
  },
  {
   "cell_type": "code",
   "execution_count": 142,
   "metadata": {},
   "outputs": [
    {
     "name": "stderr",
     "output_type": "stream",
     "text": [
      "/Users/robertx/opt/anaconda3/lib/python3.8/site-packages/pandas/core/frame.py:4147: SettingWithCopyWarning: \n",
      "A value is trying to be set on a copy of a slice from a DataFrame\n",
      "\n",
      "See the caveats in the documentation: https://pandas.pydata.org/pandas-docs/stable/user_guide/indexing.html#returning-a-view-versus-a-copy\n",
      "  return super().fillna(\n"
     ]
    }
   ],
   "source": [
    "X = test[corrs]\n",
    "column_trans = make_column_transformer((OneHotEncoder(), ['Neighborhood']), remainder = 'passthrough')\n",
    "X.fillna(0,inplace=True)\n",
    "pred = regression.predict(X)\n"
   ]
  },
  {
   "cell_type": "code",
   "execution_count": 114,
   "metadata": {},
   "outputs": [
    {
     "data": {
      "text/html": [
       "<div>\n",
       "<style scoped>\n",
       "    .dataframe tbody tr th:only-of-type {\n",
       "        vertical-align: middle;\n",
       "    }\n",
       "\n",
       "    .dataframe tbody tr th {\n",
       "        vertical-align: top;\n",
       "    }\n",
       "\n",
       "    .dataframe thead th {\n",
       "        text-align: right;\n",
       "    }\n",
       "</style>\n",
       "<table border=\"1\" class=\"dataframe\">\n",
       "  <thead>\n",
       "    <tr style=\"text-align: right;\">\n",
       "      <th></th>\n",
       "      <th>ID</th>\n",
       "      <th>SalePrice</th>\n",
       "    </tr>\n",
       "  </thead>\n",
       "  <tbody>\n",
       "    <tr>\n",
       "      <th>0</th>\n",
       "      <td>1461</td>\n",
       "      <td>124512.439197</td>\n",
       "    </tr>\n",
       "    <tr>\n",
       "      <th>1</th>\n",
       "      <td>1462</td>\n",
       "      <td>153682.544766</td>\n",
       "    </tr>\n",
       "    <tr>\n",
       "      <th>2</th>\n",
       "      <td>1463</td>\n",
       "      <td>177998.724978</td>\n",
       "    </tr>\n",
       "    <tr>\n",
       "      <th>3</th>\n",
       "      <td>1464</td>\n",
       "      <td>195484.113618</td>\n",
       "    </tr>\n",
       "    <tr>\n",
       "      <th>4</th>\n",
       "      <td>1465</td>\n",
       "      <td>196592.066990</td>\n",
       "    </tr>\n",
       "    <tr>\n",
       "      <th>...</th>\n",
       "      <td>...</td>\n",
       "      <td>...</td>\n",
       "    </tr>\n",
       "    <tr>\n",
       "      <th>1454</th>\n",
       "      <td>2915</td>\n",
       "      <td>85719.220897</td>\n",
       "    </tr>\n",
       "    <tr>\n",
       "      <th>1455</th>\n",
       "      <td>2916</td>\n",
       "      <td>94130.229284</td>\n",
       "    </tr>\n",
       "    <tr>\n",
       "      <th>1456</th>\n",
       "      <td>2917</td>\n",
       "      <td>182719.161484</td>\n",
       "    </tr>\n",
       "    <tr>\n",
       "      <th>1457</th>\n",
       "      <td>2918</td>\n",
       "      <td>110834.882891</td>\n",
       "    </tr>\n",
       "    <tr>\n",
       "      <th>1458</th>\n",
       "      <td>2919</td>\n",
       "      <td>217283.569052</td>\n",
       "    </tr>\n",
       "  </tbody>\n",
       "</table>\n",
       "<p>1459 rows × 2 columns</p>\n",
       "</div>"
      ],
      "text/plain": [
       "        ID      SalePrice\n",
       "0     1461  124512.439197\n",
       "1     1462  153682.544766\n",
       "2     1463  177998.724978\n",
       "3     1464  195484.113618\n",
       "4     1465  196592.066990\n",
       "...    ...            ...\n",
       "1454  2915   85719.220897\n",
       "1455  2916   94130.229284\n",
       "1456  2917  182719.161484\n",
       "1457  2918  110834.882891\n",
       "1458  2919  217283.569052\n",
       "\n",
       "[1459 rows x 2 columns]"
      ]
     },
     "execution_count": 114,
     "metadata": {},
     "output_type": "execute_result"
    }
   ],
   "source": [
    "submission = pd.DataFrame({'ID': test['Id'],'SalePrice': np.exp(pred)})\n",
    "submission"
   ]
  },
  {
   "cell_type": "code",
   "execution_count": 115,
   "metadata": {},
   "outputs": [],
   "source": [
    "submission.to_csv('submission1.csv', index=False)"
   ]
  },
  {
   "cell_type": "code",
   "execution_count": null,
   "metadata": {},
   "outputs": [],
   "source": []
  }
 ],
 "metadata": {
  "kernelspec": {
   "display_name": "Python 3",
   "language": "python",
   "name": "python3"
  },
  "language_info": {
   "codemirror_mode": {
    "name": "ipython",
    "version": 3
   },
   "file_extension": ".py",
   "mimetype": "text/x-python",
   "name": "python",
   "nbconvert_exporter": "python",
   "pygments_lexer": "ipython3",
   "version": "3.8.3"
  }
 },
 "nbformat": 4,
 "nbformat_minor": 4
}
