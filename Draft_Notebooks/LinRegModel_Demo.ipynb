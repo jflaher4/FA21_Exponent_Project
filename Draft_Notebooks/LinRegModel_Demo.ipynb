{
 "cells": [
  {
   "cell_type": "code",
   "execution_count": 1,
   "id": "a0092755",
   "metadata": {},
   "outputs": [],
   "source": [
    "import matplotlib.pyplot as plt\n",
    "import numpy as np\n",
    "import pandas as pd\n",
    "\n",
    "from statsmodels.stats.outliers_influence import variance_inflation_factor\n",
    "from statsmodels.tools.tools import add_constant\n",
    "\n",
    "from sklearn.model_selection import train_test_split\n",
    "from sklearn.linear_model import LinearRegression\n",
    "from sklearn.preprocessing import LabelEncoder\n",
    "from sklearn.metrics import mean_squared_error, r2_score"
   ]
  },
  {
   "cell_type": "code",
   "execution_count": 2,
   "id": "6f872dfa",
   "metadata": {},
   "outputs": [],
   "source": [
    "# Load in dataset\n",
    "df_housing = pd.read_csv('../Data/train.csv')"
   ]
  },
  {
   "cell_type": "code",
   "execution_count": 3,
   "id": "4ef9121c",
   "metadata": {},
   "outputs": [],
   "source": [
    "# Get predictors that you want\n",
    "X = df_housing[['GrLivArea','GarageArea','FullBath','YearBuilt','GarageCars']]\n",
    "X = add_constant(X)\n",
    "y = 'SalePrice'"
   ]
  },
  {
   "cell_type": "code",
   "execution_count": 4,
   "id": "f3ef809e",
   "metadata": {},
   "outputs": [],
   "source": [
    "# Transform columns to make to them usable for linear regression\n",
    "df_housing['LogSalePrice'] = np.log(df_housing['SalePrice'])\n",
    "y = df_housing['LogSalePrice']"
   ]
  },
  {
   "cell_type": "code",
   "execution_count": 5,
   "id": "8b6136fe",
   "metadata": {},
   "outputs": [
    {
     "name": "stdout",
     "output_type": "stream",
     "text": [
      "GrLivArea: 1.9795279454407528\n",
      "GarageArea: 4.684423217353367\n",
      "FullBath: 2.1172692446625874\n",
      "YearBuilt: 1.6680132350708228\n",
      "GarageCars: 5.080189099198332\n"
     ]
    }
   ],
   "source": [
    "# Check for multicollinearity and adjust predictors accordingly\n",
    "for index,col in enumerate(X.columns):\n",
    "    if col == 'const': continue\n",
    "    print(f'{col}: {variance_inflation_factor(X.values, index)}')"
   ]
  },
  {
   "cell_type": "code",
   "execution_count": 6,
   "id": "d30f70fd",
   "metadata": {},
   "outputs": [],
   "source": [
    "# Drop Garage Cars, because VIF > 5\n",
    "X = X.drop('GarageCars',axis =1)\n",
    "X = add_constant(X)"
   ]
  },
  {
   "cell_type": "code",
   "execution_count": 7,
   "id": "b187117d",
   "metadata": {
    "scrolled": true
   },
   "outputs": [
    {
     "name": "stdout",
     "output_type": "stream",
     "text": [
      "GrLivArea: 1.9755437431250817\n",
      "GarageArea: 1.603503478105227\n",
      "FullBath: 2.0857130961157835\n",
      "YearBuilt: 1.5919235384670054\n"
     ]
    }
   ],
   "source": [
    "# New VIFs\n",
    "for index,col in enumerate(X.columns):\n",
    "    if col == 'const': continue\n",
    "    print(f'{col}: {variance_inflation_factor(X.values, index)}')\n",
    "X = X.drop('const',axis =1)"
   ]
  },
  {
   "cell_type": "code",
   "execution_count": 8,
   "id": "be6155bd",
   "metadata": {},
   "outputs": [],
   "source": [
    "# Split into test and train data\n",
    "X_train, X_test, y_train, y_test = train_test_split(X, y, test_size=0.3, random_state=42)"
   ]
  },
  {
   "cell_type": "code",
   "execution_count": 9,
   "id": "9fad0118",
   "metadata": {},
   "outputs": [
    {
     "name": "stdout",
     "output_type": "stream",
     "text": [
      "log(SalePrice) = 1.4927 + 0.0004*(GrLivArea)+ 0.0004*(GarageArea)+ -0.0083*(FullBath)+ 0.0049*(YearBuilt)"
     ]
    }
   ],
   "source": [
    "# Fit linear regression model\n",
    "lin_reg = LinearRegression()\n",
    "lin_reg.fit(X_train,y_train)\n",
    "print(f'log(SalePrice) = {lin_reg.intercept_:.4f} ',end ='')\n",
    "for B,x in zip(lin_reg.coef_,X.columns):\n",
    "    print(f'+ {B:.4f}*({x})', end='')"
   ]
  },
  {
   "cell_type": "code",
   "execution_count": 10,
   "id": "e8ed9074",
   "metadata": {},
   "outputs": [
    {
     "name": "stdout",
     "output_type": "stream",
     "text": [
      "MSE: 0.04\n",
      "R^2: 0.76\n"
     ]
    }
   ],
   "source": [
    "# Make predictions on test data and calculate performace metrics\n",
    "y_pred = lin_reg.predict(X_test)\n",
    "print(\"MSE: %.2f\" % mean_squared_error(y_test, y_pred))\n",
    "print(\"R^2: %.2f\" % r2_score(y_test, y_pred))"
   ]
  },
  {
   "cell_type": "code",
   "execution_count": 11,
   "id": "eac4aeea",
   "metadata": {},
   "outputs": [
    {
     "data": {
      "text/html": [
       "<div>\n",
       "<style scoped>\n",
       "    .dataframe tbody tr th:only-of-type {\n",
       "        vertical-align: middle;\n",
       "    }\n",
       "\n",
       "    .dataframe tbody tr th {\n",
       "        vertical-align: top;\n",
       "    }\n",
       "\n",
       "    .dataframe thead th {\n",
       "        text-align: right;\n",
       "    }\n",
       "</style>\n",
       "<table border=\"1\" class=\"dataframe\">\n",
       "  <thead>\n",
       "    <tr style=\"text-align: right;\">\n",
       "      <th></th>\n",
       "      <th>Id</th>\n",
       "      <th>SalePrice</th>\n",
       "    </tr>\n",
       "  </thead>\n",
       "  <tbody>\n",
       "    <tr>\n",
       "      <th>0</th>\n",
       "      <td>1461</td>\n",
       "      <td>140768.800728</td>\n",
       "    </tr>\n",
       "    <tr>\n",
       "      <th>1</th>\n",
       "      <td>1462</td>\n",
       "      <td>135970.820370</td>\n",
       "    </tr>\n",
       "    <tr>\n",
       "      <th>2</th>\n",
       "      <td>1463</td>\n",
       "      <td>197655.763034</td>\n",
       "    </tr>\n",
       "    <tr>\n",
       "      <th>3</th>\n",
       "      <td>1464</td>\n",
       "      <td>195714.031213</td>\n",
       "    </tr>\n",
       "    <tr>\n",
       "      <th>4</th>\n",
       "      <td>1465</td>\n",
       "      <td>170628.560136</td>\n",
       "    </tr>\n",
       "    <tr>\n",
       "      <th>...</th>\n",
       "      <td>...</td>\n",
       "      <td>...</td>\n",
       "    </tr>\n",
       "    <tr>\n",
       "      <th>1454</th>\n",
       "      <td>2915</td>\n",
       "      <td>114861.177418</td>\n",
       "    </tr>\n",
       "    <tr>\n",
       "      <th>1455</th>\n",
       "      <td>2916</td>\n",
       "      <td>130334.448280</td>\n",
       "    </tr>\n",
       "    <tr>\n",
       "      <th>1456</th>\n",
       "      <td>2917</td>\n",
       "      <td>148267.155733</td>\n",
       "    </tr>\n",
       "    <tr>\n",
       "      <th>1457</th>\n",
       "      <td>2918</td>\n",
       "      <td>122261.941651</td>\n",
       "    </tr>\n",
       "    <tr>\n",
       "      <th>1458</th>\n",
       "      <td>2919</td>\n",
       "      <td>240383.477943</td>\n",
       "    </tr>\n",
       "  </tbody>\n",
       "</table>\n",
       "<p>1459 rows × 2 columns</p>\n",
       "</div>"
      ],
      "text/plain": [
       "        Id      SalePrice\n",
       "0     1461  140768.800728\n",
       "1     1462  135970.820370\n",
       "2     1463  197655.763034\n",
       "3     1464  195714.031213\n",
       "4     1465  170628.560136\n",
       "...    ...            ...\n",
       "1454  2915  114861.177418\n",
       "1455  2916  130334.448280\n",
       "1456  2917  148267.155733\n",
       "1457  2918  122261.941651\n",
       "1458  2919  240383.477943\n",
       "\n",
       "[1459 rows x 2 columns]"
      ]
     },
     "execution_count": 11,
     "metadata": {},
     "output_type": "execute_result"
    }
   ],
   "source": [
    "# Run model on test.csv\n",
    "df_housing_test = pd.read_csv('../Data/test.csv')\n",
    "X_test = df_housing_test[X.columns]\n",
    "y_pred = lin_reg.predict(X_test.fillna(0))\n",
    "y_pred = np.exp(y_pred)\n",
    "submission = pd.DataFrame({'Id': df_housing_test['Id'],'SalePrice': y_pred})\n",
    "submission"
   ]
  },
  {
   "cell_type": "code",
   "execution_count": 12,
   "id": "9a66c588",
   "metadata": {},
   "outputs": [],
   "source": [
    "# Make submission.csv\n",
    "submission.to_csv('submission.csv', index=False)"
   ]
  }
 ],
 "metadata": {
  "kernelspec": {
   "display_name": "Python 3",
   "language": "python",
   "name": "python3"
  },
  "language_info": {
   "codemirror_mode": {
    "name": "ipython",
    "version": 3
   },
   "file_extension": ".py",
   "mimetype": "text/x-python",
   "name": "python",
   "nbconvert_exporter": "python",
   "pygments_lexer": "ipython3",
   "version": "3.8.5"
  }
 },
 "nbformat": 4,
 "nbformat_minor": 5
}
