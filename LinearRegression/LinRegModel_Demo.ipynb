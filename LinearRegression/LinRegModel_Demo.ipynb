{
 "cells": [
  {
   "cell_type": "code",
   "execution_count": 3,
   "id": "a0092755",
   "metadata": {},
   "outputs": [],
   "source": [
    "import matplotlib.pyplot as plt\n",
    "import numpy as np\n",
    "from sklearn.model_selection import train_test_split\n",
    "from sklearn.linear_model import LinearRegression\n",
    "from sklearn.preprocessing import LabelEncoder"
   ]
  },
  {
   "cell_type": "code",
   "execution_count": null,
   "id": "4ef9121c",
   "metadata": {},
   "outputs": [],
   "source": [
    "# Get columns that you want"
   ]
  },
  {
   "cell_type": "code",
   "execution_count": null,
   "id": "f3ef809e",
   "metadata": {},
   "outputs": [],
   "source": [
    "# Transform columns to make to them usable for linear regression"
   ]
  },
  {
   "cell_type": "code",
   "execution_count": null,
   "id": "8b6136fe",
   "metadata": {},
   "outputs": [],
   "source": [
    "# Check for multicollinearity and adjust predictors accordingly"
   ]
  },
  {
   "cell_type": "code",
   "execution_count": null,
   "id": "9fad0118",
   "metadata": {},
   "outputs": [],
   "source": [
    "# Fit linear regression model"
   ]
  },
  {
   "cell_type": "code",
   "execution_count": null,
   "id": "e8ed9074",
   "metadata": {},
   "outputs": [],
   "source": [
    "# Make predictions on test.csv"
   ]
  }
 ],
 "metadata": {
  "kernelspec": {
   "display_name": "Python 3",
   "language": "python",
   "name": "python3"
  },
  "language_info": {
   "codemirror_mode": {
    "name": "ipython",
    "version": 3
   },
   "file_extension": ".py",
   "mimetype": "text/x-python",
   "name": "python",
   "nbconvert_exporter": "python",
   "pygments_lexer": "ipython3",
   "version": "3.8.5"
  }
 },
 "nbformat": 4,
 "nbformat_minor": 5
}
