{
 "cells": [
  {
   "cell_type": "code",
   "execution_count": 1,
   "id": "eeecd612",
   "metadata": {},
   "outputs": [],
   "source": [
    "#imports\n",
    "import matplotlib.pyplot as plt\n",
    "import numpy as np\n",
    "import pandas as pd\n",
    "\n",
    "from statsmodels.stats.outliers_influence import variance_inflation_factor\n",
    "from statsmodels.tools.tools import add_constant\n",
    "\n",
    "from sklearn.model_selection import train_test_split\n",
    "from sklearn import linear_model\n",
    "from sklearn.linear_model import LinearRegression\n",
    "from sklearn.preprocessing import LabelEncoder, PolynomialFeatures\n",
    "from sklearn.metrics import r2_score, mean_squared_error"
   ]
  },
  {
   "cell_type": "code",
   "execution_count": 2,
   "id": "a6e0b08d",
   "metadata": {},
   "outputs": [],
   "source": [
    "# import datasets\n",
    "df = pd.read_csv('../Data/train.csv')\n",
    "test = pd.read_csv('../Data/test.csv')"
   ]
  },
  {
   "cell_type": "code",
   "execution_count": 3,
   "id": "619e66b6",
   "metadata": {},
   "outputs": [
    {
     "data": {
      "text/html": [
       "<div>\n",
       "<style scoped>\n",
       "    .dataframe tbody tr th:only-of-type {\n",
       "        vertical-align: middle;\n",
       "    }\n",
       "\n",
       "    .dataframe tbody tr th {\n",
       "        vertical-align: top;\n",
       "    }\n",
       "\n",
       "    .dataframe thead th {\n",
       "        text-align: right;\n",
       "    }\n",
       "</style>\n",
       "<table border=\"1\" class=\"dataframe\">\n",
       "  <thead>\n",
       "    <tr style=\"text-align: right;\">\n",
       "      <th></th>\n",
       "      <th>const</th>\n",
       "      <th>TotalSF</th>\n",
       "      <th>YearRemodAdd</th>\n",
       "      <th>GarageArea</th>\n",
       "      <th>FullBath</th>\n",
       "    </tr>\n",
       "  </thead>\n",
       "  <tbody>\n",
       "    <tr>\n",
       "      <th>0</th>\n",
       "      <td>1.0</td>\n",
       "      <td>2566</td>\n",
       "      <td>2003</td>\n",
       "      <td>548</td>\n",
       "      <td>2</td>\n",
       "    </tr>\n",
       "    <tr>\n",
       "      <th>1</th>\n",
       "      <td>1.0</td>\n",
       "      <td>2524</td>\n",
       "      <td>1976</td>\n",
       "      <td>460</td>\n",
       "      <td>2</td>\n",
       "    </tr>\n",
       "    <tr>\n",
       "      <th>2</th>\n",
       "      <td>1.0</td>\n",
       "      <td>2706</td>\n",
       "      <td>2002</td>\n",
       "      <td>608</td>\n",
       "      <td>2</td>\n",
       "    </tr>\n",
       "    <tr>\n",
       "      <th>3</th>\n",
       "      <td>1.0</td>\n",
       "      <td>2473</td>\n",
       "      <td>1970</td>\n",
       "      <td>642</td>\n",
       "      <td>1</td>\n",
       "    </tr>\n",
       "    <tr>\n",
       "      <th>4</th>\n",
       "      <td>1.0</td>\n",
       "      <td>3343</td>\n",
       "      <td>2000</td>\n",
       "      <td>836</td>\n",
       "      <td>2</td>\n",
       "    </tr>\n",
       "  </tbody>\n",
       "</table>\n",
       "</div>"
      ],
      "text/plain": [
       "   const  TotalSF  YearRemodAdd  GarageArea  FullBath\n",
       "0    1.0     2566          2003         548         2\n",
       "1    1.0     2524          1976         460         2\n",
       "2    1.0     2706          2002         608         2\n",
       "3    1.0     2473          1970         642         1\n",
       "4    1.0     3343          2000         836         2"
      ]
     },
     "execution_count": 3,
     "metadata": {},
     "output_type": "execute_result"
    }
   ],
   "source": [
    "# new dataframe\n",
    "df['TotalSF'] = df['GrLivArea'] + df['TotalBsmtSF']\n",
    "df_reg = df[['TotalSF','YearRemodAdd','GarageArea','FullBath']]\n",
    "df_reg = add_constant(df_reg)\n",
    "df_reg.head(5)"
   ]
  },
  {
   "cell_type": "code",
   "execution_count": 4,
   "id": "c2056acd",
   "metadata": {},
   "outputs": [
    {
     "name": "stdout",
     "output_type": "stream",
     "text": [
      "TotalSF: 1.8412057624783007\n",
      "YearRemodAdd: 1.3119815681283826\n",
      "GarageArea: 1.5420442578519384\n",
      "FullBath: 1.6648989865616222\n"
     ]
    }
   ],
   "source": [
    "# check multicollinearity\n",
    "for index,col in enumerate(df_reg.columns):\n",
    "    if col == 'const': continue\n",
    "    print(f'{col}: {variance_inflation_factor(df_reg.values, index)}')"
   ]
  },
  {
   "cell_type": "code",
   "execution_count": 5,
   "id": "28d6a408",
   "metadata": {},
   "outputs": [],
   "source": [
    "df['LogSalePrice'] = np.log(df['SalePrice'])\n",
    "y = np.array(df['LogSalePrice']).reshape(-1, 1)\n",
    "\n",
    "reg = LinearRegression()\n",
    "poly = PolynomialFeatures(4)"
   ]
  },
  {
   "cell_type": "code",
   "execution_count": 6,
   "id": "3b8acab4",
   "metadata": {},
   "outputs": [
    {
     "name": "stdout",
     "output_type": "stream",
     "text": [
      "TotalSF: 1.8412057624783007\n",
      "YearRemodAdd: 1.3119815681283826\n",
      "GarageArea: 1.5420442578519384\n",
      "FullBath: 1.6648989865616222\n"
     ]
    }
   ],
   "source": [
    "df_reg = df[['TotalSF','YearRemodAdd','GarageArea','FullBath']].fillna(0)\n",
    "df_reg = add_constant(df_reg)\n",
    "\n",
    "for index,col in enumerate(df_reg.columns):\n",
    "    if col == 'const': continue\n",
    "    print(f'{col}: {variance_inflation_factor(df_reg.values, index)}')"
   ]
  },
  {
   "cell_type": "code",
   "execution_count": 7,
   "id": "9aae79dd",
   "metadata": {},
   "outputs": [
    {
     "name": "stdout",
     "output_type": "stream",
     "text": [
      "r^2: 0.821\n"
     ]
    }
   ],
   "source": [
    "#df_reg.drop(['const'],axis=1)\n",
    "y = df['SalePrice']\n",
    "x_ = poly.fit_transform(df_reg)\n",
    "\n",
    "reg.fit(x_, y)\n",
    "print(\"r^2: %.3f\" % r2_score(reg.predict(x_),y))"
   ]
  },
  {
   "cell_type": "code",
   "execution_count": 8,
   "id": "98fcde3f",
   "metadata": {},
   "outputs": [
    {
     "data": {
      "text/plain": [
       "<matplotlib.collections.PathCollection at 0x7fa7541cf0d0>"
      ]
     },
     "execution_count": 8,
     "metadata": {},
     "output_type": "execute_result"
    },
    {
     "data": {
      "image/png": "[encoded data removed]",
      "text/plain": [
       "<Figure size 432x288 with 1 Axes>"
      ]
     },
     "metadata": {
      "needs_background": "light"
     },
     "output_type": "display_data"
    }
   ],
   "source": [
    "plt.scatter(reg.predict(x_),y)"
   ]
  },
  {
   "cell_type": "code",
   "execution_count": 9,
   "id": "068ad609",
   "metadata": {},
   "outputs": [
    {
     "data": {
      "text/html": [
       "<div>\n",
       "<style scoped>\n",
       "    .dataframe tbody tr th:only-of-type {\n",
       "        vertical-align: middle;\n",
       "    }\n",
       "\n",
       "    .dataframe tbody tr th {\n",
       "        vertical-align: top;\n",
       "    }\n",
       "\n",
       "    .dataframe thead th {\n",
       "        text-align: right;\n",
       "    }\n",
       "</style>\n",
       "<table border=\"1\" class=\"dataframe\">\n",
       "  <thead>\n",
       "    <tr style=\"text-align: right;\">\n",
       "      <th></th>\n",
       "      <th>ID</th>\n",
       "      <th>SalePrice</th>\n",
       "    </tr>\n",
       "  </thead>\n",
       "  <tbody>\n",
       "    <tr>\n",
       "      <th>0</th>\n",
       "      <td>1461</td>\n",
       "      <td>131660.707395</td>\n",
       "    </tr>\n",
       "    <tr>\n",
       "      <th>1</th>\n",
       "      <td>1462</td>\n",
       "      <td>145319.681445</td>\n",
       "    </tr>\n",
       "    <tr>\n",
       "      <th>2</th>\n",
       "      <td>1463</td>\n",
       "      <td>185059.110222</td>\n",
       "    </tr>\n",
       "    <tr>\n",
       "      <th>3</th>\n",
       "      <td>1464</td>\n",
       "      <td>182570.248318</td>\n",
       "    </tr>\n",
       "    <tr>\n",
       "      <th>4</th>\n",
       "      <td>1465</td>\n",
       "      <td>179937.036785</td>\n",
       "    </tr>\n",
       "    <tr>\n",
       "      <th>...</th>\n",
       "      <td>...</td>\n",
       "      <td>...</td>\n",
       "    </tr>\n",
       "    <tr>\n",
       "      <th>1454</th>\n",
       "      <td>2915</td>\n",
       "      <td>94958.518118</td>\n",
       "    </tr>\n",
       "    <tr>\n",
       "      <th>1455</th>\n",
       "      <td>2916</td>\n",
       "      <td>120260.793396</td>\n",
       "    </tr>\n",
       "    <tr>\n",
       "      <th>1456</th>\n",
       "      <td>2917</td>\n",
       "      <td>167689.300230</td>\n",
       "    </tr>\n",
       "    <tr>\n",
       "      <th>1457</th>\n",
       "      <td>2918</td>\n",
       "      <td>96869.328365</td>\n",
       "    </tr>\n",
       "    <tr>\n",
       "      <th>1458</th>\n",
       "      <td>2919</td>\n",
       "      <td>216093.261555</td>\n",
       "    </tr>\n",
       "  </tbody>\n",
       "</table>\n",
       "<p>1459 rows × 2 columns</p>\n",
       "</div>"
      ],
      "text/plain": [
       "        ID      SalePrice\n",
       "0     1461  131660.707395\n",
       "1     1462  145319.681445\n",
       "2     1463  185059.110222\n",
       "3     1464  182570.248318\n",
       "4     1465  179937.036785\n",
       "...    ...            ...\n",
       "1454  2915   94958.518118\n",
       "1455  2916  120260.793396\n",
       "1456  2917  167689.300230\n",
       "1457  2918   96869.328365\n",
       "1458  2919  216093.261555\n",
       "\n",
       "[1459 rows x 2 columns]"
      ]
     },
     "execution_count": 9,
     "metadata": {},
     "output_type": "execute_result"
    }
   ],
   "source": [
    "test['TotalSF'] = test['GrLivArea'] + test['TotalBsmtSF']\n",
    "#x = test[['TotalSF','GarageArea']]\n",
    "\n",
    "#x_ = poly.fit_transform(x.fillna(0))\n",
    "\n",
    "test_vars = test[['TotalSF','YearRemodAdd','GarageArea','FullBath']].fillna(0)\n",
    "test_vars = add_constant(test_vars)\n",
    "test_vars = poly.fit_transform(test_vars)\n",
    "pred = reg.predict(test_vars)\n",
    "#pred = np.exp(pred)\n",
    "pred = pred.tolist()\n",
    "#pred = [x[0] for x in pred]\n",
    "submission = pd.DataFrame({'ID': test['Id'],'SalePrice': pred})\n",
    "submission"
   ]
  },
  {
   "cell_type": "code",
   "execution_count": 10,
   "id": "994ec2cb",
   "metadata": {},
   "outputs": [],
   "source": [
    "submission.to_csv('submission.csv', index=False)"
   ]
  },
  {
   "cell_type": "code",
   "execution_count": 11,
   "id": "7933d696",
   "metadata": {},
   "outputs": [
    {
     "data": {
      "text/plain": [
       "array([ 7.63398184e-03,  2.28960476e+02, -6.58997961e+01, -3.19107782e+00,\n",
       "       -1.73686961e+01,  6.03163849e+01, -6.00845718e+01, -1.56877469e+02,\n",
       "       -7.20733811e+03,  7.09063882e+02,  1.35904488e+02, -5.72838692e+03,\n",
       "        6.78424365e+01, -1.26348361e+03, -1.23488462e+01,  1.35828333e-04,\n",
       "       -6.27233247e-02,  1.69437382e-03,  9.71277468e-01,  6.42958369e-02,\n",
       "        1.56480401e-01,  3.36715504e+00, -7.78586154e-03,  2.05180587e+00,\n",
       "        6.18817462e+02, -4.83258904e-01, -1.37075976e-01,  1.31302267e+01,\n",
       "       -6.70697681e-02,  1.29654890e+00, -3.43661920e+03,  1.17701058e-02,\n",
       "       -8.57302858e-01, -1.82787903e+03, -1.02689598e+00, -7.72638487e-09,\n",
       "       -5.05938544e-08,  2.54050292e-08,  2.17891374e-05,  1.62932167e-05,\n",
       "       -9.38697212e-07, -5.56838656e-04, -5.75693662e-08,  9.01175986e-06,\n",
       "       -8.29032930e-03, -1.72039129e-05, -3.88984861e-05,  2.24898814e-04,\n",
       "        3.93153096e-06, -1.05089711e-03, -3.09891139e-01,  2.17824891e-07,\n",
       "        2.94191702e-05, -2.68479331e-02,  3.21083469e+00,  9.31025961e-05,\n",
       "        3.44995838e-05, -5.25063425e-03,  1.65827123e-05, -2.36839893e-04,\n",
       "        1.78458411e+00, -5.95261906e-06,  2.92346414e-04,  8.78107494e-01,\n",
       "       -1.78810223e+01, -1.76131834e-07, -1.29338524e-04,  1.34986729e-01,\n",
       "        3.22600615e+00,  7.66691254e+01])"
      ]
     },
     "execution_count": 11,
     "metadata": {},
     "output_type": "execute_result"
    }
   ],
   "source": [
    "df_reg = df[['TotalSF','YearRemodAdd','GarageArea','FullBath']].fillna(0)\n",
    "\n",
    "x_train, x_test, y_train, y_test = train_test_split(df_reg, y, test_size = 0.3, random_state = 0)\n",
    "x_train = poly.fit_transform(x_train)\n",
    "x_test = poly.fit_transform(x_test)\n",
    "\n",
    "reg.fit(x_train, y_train)\n",
    "#print(\"r^2: %.3f\" % r2_score(reg.predict(x_test),y_test))\n",
    "x_train.shape[1]\n",
    "reg.coef_"
   ]
  },
  {
   "cell_type": "code",
   "execution_count": 12,
   "id": "d173a2c2",
   "metadata": {},
   "outputs": [
    {
     "name": "stdout",
     "output_type": "stream",
     "text": [
      "                            OLS Regression Results                            \n",
      "==============================================================================\n",
      "Dep. Variable:              SalePrice   R-squared:                       0.850\n",
      "Model:                            OLS   Adj. R-squared:                  0.844\n",
      "Method:                 Least Squares   F-statistic:                     150.2\n",
      "Date:                Sun, 05 Dec 2021   Prob (F-statistic):               0.00\n",
      "Time:                        15:53:12   Log-Likelihood:                -17160.\n",
      "No. Observations:                1460   AIC:                         3.443e+04\n",
      "Df Residuals:                    1406   BIC:                         3.471e+04\n",
      "Df Model:                          53                                         \n",
      "Covariance Type:            nonrobust                                         \n",
      "==============================================================================\n",
      "                 coef    std err          t      P>|t|      [0.025      0.975]\n",
      "------------------------------------------------------------------------------\n",
      "const          0.0449      0.036      1.236      0.216      -0.026       0.116\n",
      "x1            -1.3910      0.727     -1.912      0.056      -2.818       0.036\n",
      "x2            -1.0164      0.522     -1.946      0.052      -2.041       0.008\n",
      "x3            -0.2967      0.232     -1.281      0.200      -0.751       0.158\n",
      "x4            -0.0318      0.017     -1.891      0.059      -0.065       0.001\n",
      "x5            13.9972     22.421      0.624      0.533     -29.985      57.979\n",
      "x6           -19.6047     50.536     -0.388      0.698    -118.739      79.529\n",
      "x7            85.8298    123.815      0.693      0.488    -157.052     328.712\n",
      "x8           -23.9543     12.924     -1.853      0.064     -49.307       1.399\n",
      "x9            -2.5788     33.108     -0.078      0.938     -67.524      62.367\n",
      "x10          -40.2810    130.957     -0.308      0.758    -297.173     216.611\n",
      "x11          -16.6819      8.948     -1.864      0.062     -34.235       0.872\n",
      "x12         -153.5403    241.351     -0.636      0.525    -626.986     319.906\n",
      "x13           -3.7703      2.041     -1.847      0.065      -7.774       0.234\n",
      "x14           -1.8341      0.843     -2.175      0.030      -3.488      -0.180\n",
      "x15            0.0007      0.000      3.905      0.000       0.000       0.001\n",
      "x16           -0.0174      0.023     -0.759      0.448      -0.062       0.028\n",
      "x17            0.0010      0.001      0.719      0.472      -0.002       0.004\n",
      "x18            0.1779      0.536      0.332      0.740      -0.873       1.229\n",
      "x19            0.0243      0.051      0.472      0.637      -0.077       0.125\n",
      "x20           -0.0873      0.126     -0.694      0.488      -0.334       0.160\n",
      "x21           -1.2769      0.909     -1.405      0.160      -3.059       0.505\n",
      "x22           -0.0027      0.004     -0.745      0.457      -0.010       0.004\n",
      "x23           -1.9361      2.505     -0.773      0.440      -6.849       2.977\n",
      "x24          757.0834    612.585      1.236      0.217    -444.595    1958.762\n",
      "x25            0.0002      0.034      0.006      0.995      -0.066       0.066\n",
      "x26            0.0409      0.133      0.308      0.758      -0.220       0.301\n",
      "x27            2.6739      1.094      2.443      0.015       0.527       4.821\n",
      "x28            0.1530      0.245      0.624      0.532      -0.328       0.634\n",
      "x29            1.5916      2.535      0.628      0.530      -3.380       6.563\n",
      "x30        -1774.3461    812.617     -2.183      0.029   -3368.419    -180.273\n",
      "x31            0.0077      0.006      1.343      0.180      -0.004       0.019\n",
      "x32            0.7147      4.808      0.149      0.882      -8.716      10.146\n",
      "x33          -97.6784     33.192     -2.943      0.003    -162.790     -32.567\n",
      "x34           -0.7925      0.274     -2.896      0.004      -1.329      -0.256\n",
      "x35        -1.343e-09   8.22e-10     -1.633      0.103   -2.96e-09     2.7e-10\n",
      "x36        -3.491e-07   9.27e-08     -3.767      0.000   -5.31e-07   -1.67e-07\n",
      "x37         1.819e-08   9.85e-09      1.847      0.065   -1.13e-09    3.75e-08\n",
      "x38        -5.124e-06   3.15e-06     -1.628      0.104   -1.13e-05    1.05e-06\n",
      "x39         5.208e-06   5.85e-06      0.890      0.374   -6.27e-06    1.67e-05\n",
      "x40        -5.737e-07   6.99e-07     -0.821      0.412   -1.94e-06    7.97e-07\n",
      "x41           -0.0001      0.000     -0.401      0.688      -0.001       0.000\n",
      "x42        -1.221e-08   3.73e-08     -0.327      0.743   -8.54e-08     6.1e-08\n",
      "x43         1.192e-05      3e-05      0.397      0.691   -4.69e-05    7.08e-05\n",
      "x44            0.0219      0.007      2.936      0.003       0.007       0.037\n",
      "x45        -7.262e-06   1.31e-05     -0.556      0.578   -3.29e-05    1.84e-05\n",
      "x46         2.228e-05    3.2e-05      0.697      0.486   -4.04e-05     8.5e-05\n",
      "x47            0.0007      0.000      1.497      0.135      -0.000       0.002\n",
      "x48         1.366e-06    1.9e-06      0.718      0.473   -2.37e-06     5.1e-06\n",
      "x49            0.0010      0.001      0.761      0.447      -0.002       0.004\n",
      "x50           -0.4148      0.315     -1.316      0.188      -1.033       0.204\n",
      "x51         1.109e-07   1.01e-07      1.102      0.271   -8.65e-08    3.08e-07\n",
      "x52        -3.121e-05   8.98e-05     -0.348      0.728      -0.000       0.000\n",
      "x53           -0.0092      0.043     -0.215      0.829      -0.093       0.074\n",
      "x54           -8.4015      7.408     -1.134      0.257     -22.933       6.130\n",
      "x55         5.711e-07   8.53e-06      0.067      0.947   -1.62e-05    1.73e-05\n",
      "x56        -1.044e-05   3.37e-05     -0.310      0.757   -7.65e-05    5.56e-05\n",
      "x57           -0.0014      0.001     -2.461      0.014      -0.002      -0.000\n",
      "x58         -3.82e-05   6.23e-05     -0.614      0.540      -0.000    8.39e-05\n",
      "x59           -0.0008      0.001     -0.583      0.560      -0.003       0.002\n",
      "x60            0.9153      0.419      2.182      0.029       0.093       1.738\n",
      "x61        -3.651e-06   2.95e-06     -1.239      0.216   -9.43e-06    2.13e-06\n",
      "x62           -0.0004      0.002     -0.155      0.877      -0.005       0.004\n",
      "x63            0.0180      0.047      0.381      0.703      -0.074       0.110\n",
      "x64            7.5671      8.003      0.945      0.345      -8.133      23.267\n",
      "x65        -2.629e-07   1.22e-07     -2.163      0.031   -5.01e-07   -2.45e-08\n",
      "x66           -0.0001      0.000     -0.780      0.436      -0.000       0.000\n",
      "x67            0.0782      0.079      0.996      0.320      -0.076       0.232\n",
      "x68           -5.0277     20.000     -0.251      0.802     -44.261      34.206\n",
      "x69           15.2146      8.340      1.824      0.068      -1.145      31.574\n",
      "==============================================================================\n",
      "Omnibus:                      184.536   Durbin-Watson:                   1.968\n",
      "Prob(Omnibus):                  0.000   Jarque-Bera (JB):             1596.850\n",
      "Skew:                          -0.243   Prob(JB):                         0.00\n",
      "Kurtosis:                       8.100   Cond. No.                     6.39e+17\n",
      "==============================================================================\n",
      "\n",
      "Notes:\n",
      "[1] Standard Errors assume that the covariance matrix of the errors is correctly specified.\n",
      "[2] The condition number is large, 6.39e+17. This might indicate that there are\n",
      "strong multicollinearity or other numerical problems.\n"
     ]
    }
   ],
   "source": [
    "# see p values for all 70 or so \"new\" variables and take top 4-5 to solve for overfitting\n",
    "\n",
    "import statsmodels.api as sm\n",
    "x = poly.fit_transform(df_reg)\n",
    "x = sm.add_constant(x)\n",
    "model = sm.OLS(y,x)\n",
    "results = model.fit()\n",
    "print(results.summary())"
   ]
  },
  {
   "cell_type": "code",
   "execution_count": 13,
   "id": "4f3cc246",
   "metadata": {},
   "outputs": [
    {
     "name": "stdout",
     "output_type": "stream",
     "text": [
      "(1460, 70)\n"
     ]
    },
    {
     "data": {
      "text/plain": [
       "array([[1.68954575e+10, 2.19200000e+03, 8.00000000e+00, 3.38416014e+13,\n",
       "        2.63374240e+07],\n",
       "       [1.60793338e+10, 1.84000000e+03, 8.00000000e+00, 3.17727636e+13,\n",
       "        2.54823040e+07],\n",
       "       [1.98145118e+10, 2.43200000e+03, 8.00000000e+00, 3.96686527e+13,\n",
       "        2.92897440e+07],\n",
       "       ...,\n",
       "       [4.25816715e+10, 1.00800000e+03, 8.00000000e+00, 8.54188330e+13,\n",
       "        4.87762560e+07],\n",
       "       [1.00218124e+10, 2.40000000e+02, 1.00000000e+00, 2.00035376e+13,\n",
       "        4.64833600e+06],\n",
       "       [1.58510817e+10, 2.76000000e+02, 1.00000000e+00, 3.11473756e+13,\n",
       "        6.31014400e+06]])"
      ]
     },
     "execution_count": 13,
     "metadata": {},
     "output_type": "execute_result"
    }
   ],
   "source": [
    "print(x.shape)\n",
    "x_new = x[:,[15,33,34,36,44]]\n",
    "x_new"
   ]
  },
  {
   "cell_type": "code",
   "execution_count": 14,
   "id": "38665373",
   "metadata": {},
   "outputs": [
    {
     "name": "stdout",
     "output_type": "stream",
     "text": [
      "r^2: 0.271\n"
     ]
    }
   ],
   "source": [
    "reg.fit(x_new,y)\n",
    "print(\"r^2: %.3f\" % r2_score(reg.predict(x_new),y))"
   ]
  },
  {
   "cell_type": "code",
   "execution_count": 15,
   "id": "690dc6f0",
   "metadata": {},
   "outputs": [
    {
     "name": "stdout",
     "output_type": "stream",
     "text": [
      "r^2: 0.418\n"
     ]
    }
   ],
   "source": [
    "x_new = x[:,[10,25,53,55,62]]\n",
    "reg.fit(x_new,y)\n",
    "print(\"r^2: %.3f\" % r2_score(reg.predict(x_new),y))"
   ]
  },
  {
   "cell_type": "code",
   "execution_count": 16,
   "id": "6b389299",
   "metadata": {},
   "outputs": [
    {
     "name": "stdout",
     "output_type": "stream",
     "text": [
      "                            OLS Regression Results                            \n",
      "==============================================================================\n",
      "Dep. Variable:              SalePrice   R-squared:                       0.630\n",
      "Model:                            OLS   Adj. R-squared:                  0.629\n",
      "Method:                 Least Squares   F-statistic:                     620.6\n",
      "Date:                Sun, 05 Dec 2021   Prob (F-statistic):          1.32e-312\n",
      "Time:                        15:53:12   Log-Likelihood:                -17817.\n",
      "No. Observations:                1460   AIC:                         3.564e+04\n",
      "Df Residuals:                    1455   BIC:                         3.567e+04\n",
      "Df Model:                           4                                         \n",
      "Covariance Type:            nonrobust                                         \n",
      "==============================================================================\n",
      "                 coef    std err          t      P>|t|      [0.025      0.975]\n",
      "------------------------------------------------------------------------------\n",
      "const      -2.301e-11   2.45e-12     -9.381      0.000   -2.78e-11   -1.82e-11\n",
      "x1             0.0590      0.006      9.283      0.000       0.047       0.071\n",
      "x2            -0.0002   1.72e-05    -10.845      0.000      -0.000      -0.000\n",
      "x3             0.0085      0.000     17.826      0.000       0.008       0.009\n",
      "x4          1.005e-07   8.68e-09     11.579      0.000    8.34e-08    1.17e-07\n",
      "x5         -1.747e-05    4.4e-06     -3.971      0.000   -2.61e-05   -8.84e-06\n",
      "==============================================================================\n",
      "Omnibus:                      526.542   Durbin-Watson:                   2.032\n",
      "Prob(Omnibus):                  0.000   Jarque-Bera (JB):            30895.947\n",
      "Skew:                          -0.851   Prob(JB):                         0.00\n",
      "Kurtosis:                      25.472   Cond. No.                     3.55e+16\n",
      "==============================================================================\n",
      "\n",
      "Notes:\n",
      "[1] Standard Errors assume that the covariance matrix of the errors is correctly specified.\n",
      "[2] The condition number is large, 3.55e+16. This might indicate that there are\n",
      "strong multicollinearity or other numerical problems.\n"
     ]
    }
   ],
   "source": [
    "x_new = sm.add_constant(x_new)\n",
    "model = sm.OLS(y,x_new)\n",
    "results = model.fit()\n",
    "print(results.summary())"
   ]
  },
  {
   "cell_type": "code",
   "execution_count": 17,
   "id": "d6f4c005",
   "metadata": {},
   "outputs": [
    {
     "name": "stdout",
     "output_type": "stream",
     "text": [
      "                            OLS Regression Results                            \n",
      "==============================================================================\n",
      "Dep. Variable:              SalePrice   R-squared:                       0.719\n",
      "Model:                            OLS   Adj. R-squared:                  0.715\n",
      "Method:                 Least Squares   F-statistic:                     193.5\n",
      "Date:                Sun, 05 Dec 2021   Prob (F-statistic):               0.00\n",
      "Time:                        15:53:12   Log-Likelihood:                -17619.\n",
      "No. Observations:                1460   AIC:                         3.528e+04\n",
      "Df Residuals:                    1440   BIC:                         3.538e+04\n",
      "Df Model:                          19                                         \n",
      "Covariance Type:            nonrobust                                         \n",
      "==============================================================================\n",
      "                 coef    std err          t      P>|t|      [0.025      0.975]\n",
      "------------------------------------------------------------------------------\n",
      "const         12.1524     12.388      0.981      0.327     -12.148      36.453\n",
      "x1           108.1673     15.591      6.938      0.000      77.583     138.751\n",
      "x2             0.5339      0.550      0.970      0.332      -0.546       1.614\n",
      "x3           842.7612    867.848      0.971      0.332    -859.620    2545.143\n",
      "x4            -0.0299      0.014     -2.203      0.028      -0.057      -0.003\n",
      "x5             0.0112      0.012      0.968      0.333      -0.012       0.034\n",
      "x6            -1.9487      0.607     -3.211      0.001      -3.139      -0.758\n",
      "x7            -0.0095      0.010     -0.971      0.332      -0.029       0.010\n",
      "x8            -0.0139      0.014     -0.971      0.332      -0.042       0.014\n",
      "x9            11.9146     14.743      0.808      0.419     -17.006      40.835\n",
      "x10          7.22e-06   3.81e-06      1.897      0.058   -2.46e-07    1.47e-05\n",
      "x11            0.0013      0.001      0.970      0.332      -0.001       0.004\n",
      "x12            0.0006      0.000      3.678      0.000       0.000       0.001\n",
      "x13           -0.0032      0.003     -0.970      0.332      -0.010       0.003\n",
      "x14           -0.0100      0.010     -0.969      0.333      -0.030       0.010\n",
      "x15            0.0056      0.006      0.912      0.362      -0.006       0.018\n",
      "x16           -0.0052      0.005     -0.969      0.333      -0.016       0.005\n",
      "x17         8.036e-06   8.25e-06      0.974      0.330   -8.15e-06    2.42e-05\n",
      "x18         1.293e-06   1.33e-06      0.974      0.330   -1.31e-06     3.9e-06\n",
      "x19           -0.1311      0.080     -1.633      0.103      -0.289       0.026\n",
      "x20        -5.463e-10   3.33e-10     -1.640      0.101    -1.2e-09    1.07e-10\n",
      "x21         5.352e-07   5.27e-07      1.015      0.310   -4.99e-07    1.57e-06\n",
      "x22        -3.226e-08   1.61e-08     -1.999      0.046   -6.39e-08   -6.05e-10\n",
      "x23        -8.666e-06   8.19e-06     -1.059      0.290   -2.47e-05    7.39e-06\n",
      "x24        -1.949e-05    2.1e-05     -0.926      0.355   -6.08e-05    2.18e-05\n",
      "x25        -2.245e-06   8.66e-07     -2.592      0.010   -3.94e-06   -5.46e-07\n",
      "x26         2.858e-05   2.53e-05      1.131      0.258    -2.1e-05    7.81e-05\n",
      "x27            0.0002      0.000      0.963      0.336      -0.000       0.001\n",
      "x28         5.774e-05   8.62e-05      0.670      0.503      -0.000       0.000\n",
      "x29         2.735e-05   2.26e-05      1.213      0.225   -1.69e-05    7.16e-05\n",
      "x30        -1.307e-05   1.02e-05     -1.285      0.199    -3.3e-05    6.88e-06\n",
      "x31           -0.0005      0.000     -0.967      0.334      -0.001       0.000\n",
      "x32            0.0003      0.000      0.973      0.331      -0.000       0.001\n",
      "x33        -5.486e-05   5.67e-05     -0.968      0.333      -0.000    5.63e-05\n",
      "x34            0.0001   9.52e-05      1.063      0.288   -8.56e-05       0.000\n",
      "==============================================================================\n",
      "Omnibus:                      155.547   Durbin-Watson:                   1.951\n",
      "Prob(Omnibus):                  0.000   Jarque-Bera (JB):              843.093\n",
      "Skew:                          -0.333   Prob(JB):                    8.41e-184\n",
      "Kurtosis:                       6.663   Cond. No.                     1.80e+16\n",
      "==============================================================================\n",
      "\n",
      "Notes:\n",
      "[1] Standard Errors assume that the covariance matrix of the errors is correctly specified.\n",
      "[2] The condition number is large, 1.8e+16. This might indicate that there are\n",
      "strong multicollinearity or other numerical problems.\n"
     ]
    }
   ],
   "source": [
    "df_reg = df_reg = df[['TotalSF','PoolArea','LotFrontage']].fillna(0)\n",
    "x = poly.fit_transform(df_reg)\n",
    "x = sm.add_constant(x)\n",
    "model = sm.OLS(y,x)\n",
    "results = model.fit()\n",
    "print(results.summary())"
   ]
  },
  {
   "cell_type": "code",
   "execution_count": 18,
   "id": "a8a3925d",
   "metadata": {},
   "outputs": [
    {
     "ename": "TypeError",
     "evalue": "expected 1D vector for x",
     "output_type": "error",
     "traceback": [
      "\u001b[0;31m---------------------------------------------------------------------------\u001b[0m",
      "\u001b[0;31mTypeError\u001b[0m                                 Traceback (most recent call last)",
      "\u001b[0;32m<ipython-input-18-d96f09fead7b>\u001b[0m in \u001b[0;36m<module>\u001b[0;34m\u001b[0m\n\u001b[0;32m----> 1\u001b[0;31m \u001b[0mx\u001b[0m \u001b[0;34m=\u001b[0m \u001b[0mnp\u001b[0m\u001b[0;34m.\u001b[0m\u001b[0mpolyfit\u001b[0m\u001b[0;34m(\u001b[0m\u001b[0mdf_reg\u001b[0m\u001b[0;34m,\u001b[0m\u001b[0my\u001b[0m\u001b[0;34m,\u001b[0m\u001b[0;36m2\u001b[0m\u001b[0;34m)\u001b[0m\u001b[0;34m\u001b[0m\u001b[0;34m\u001b[0m\u001b[0m\n\u001b[0m\u001b[1;32m      2\u001b[0m \u001b[0mreg\u001b[0m\u001b[0;34m.\u001b[0m\u001b[0mfit\u001b[0m\u001b[0;34m(\u001b[0m\u001b[0mx\u001b[0m\u001b[0;34m,\u001b[0m\u001b[0my\u001b[0m\u001b[0;34m)\u001b[0m\u001b[0;34m\u001b[0m\u001b[0;34m\u001b[0m\u001b[0m\n\u001b[1;32m      3\u001b[0m \u001b[0mprint\u001b[0m\u001b[0;34m(\u001b[0m\u001b[0;34m\"r^2: %.3f\"\u001b[0m \u001b[0;34m%\u001b[0m \u001b[0mr2_score\u001b[0m\u001b[0;34m(\u001b[0m\u001b[0mreg\u001b[0m\u001b[0;34m.\u001b[0m\u001b[0mpredict\u001b[0m\u001b[0;34m(\u001b[0m\u001b[0mx\u001b[0m\u001b[0;34m)\u001b[0m\u001b[0;34m,\u001b[0m\u001b[0my\u001b[0m\u001b[0;34m)\u001b[0m\u001b[0;34m)\u001b[0m\u001b[0;34m\u001b[0m\u001b[0;34m\u001b[0m\u001b[0m\n",
      "\u001b[0;32m<__array_function__ internals>\u001b[0m in \u001b[0;36mpolyfit\u001b[0;34m(*args, **kwargs)\u001b[0m\n",
      "\u001b[0;32m~/opt/anaconda3/lib/python3.8/site-packages/numpy/lib/polynomial.py\u001b[0m in \u001b[0;36mpolyfit\u001b[0;34m(x, y, deg, rcond, full, w, cov)\u001b[0m\n\u001b[1;32m    626\u001b[0m         \u001b[0;32mraise\u001b[0m \u001b[0mValueError\u001b[0m\u001b[0;34m(\u001b[0m\u001b[0;34m\"expected deg >= 0\"\u001b[0m\u001b[0;34m)\u001b[0m\u001b[0;34m\u001b[0m\u001b[0;34m\u001b[0m\u001b[0m\n\u001b[1;32m    627\u001b[0m     \u001b[0;32mif\u001b[0m \u001b[0mx\u001b[0m\u001b[0;34m.\u001b[0m\u001b[0mndim\u001b[0m \u001b[0;34m!=\u001b[0m \u001b[0;36m1\u001b[0m\u001b[0;34m:\u001b[0m\u001b[0;34m\u001b[0m\u001b[0;34m\u001b[0m\u001b[0m\n\u001b[0;32m--> 628\u001b[0;31m         \u001b[0;32mraise\u001b[0m \u001b[0mTypeError\u001b[0m\u001b[0;34m(\u001b[0m\u001b[0;34m\"expected 1D vector for x\"\u001b[0m\u001b[0;34m)\u001b[0m\u001b[0;34m\u001b[0m\u001b[0;34m\u001b[0m\u001b[0m\n\u001b[0m\u001b[1;32m    629\u001b[0m     \u001b[0;32mif\u001b[0m \u001b[0mx\u001b[0m\u001b[0;34m.\u001b[0m\u001b[0msize\u001b[0m \u001b[0;34m==\u001b[0m \u001b[0;36m0\u001b[0m\u001b[0;34m:\u001b[0m\u001b[0;34m\u001b[0m\u001b[0;34m\u001b[0m\u001b[0m\n\u001b[1;32m    630\u001b[0m         \u001b[0;32mraise\u001b[0m \u001b[0mTypeError\u001b[0m\u001b[0;34m(\u001b[0m\u001b[0;34m\"expected non-empty vector for x\"\u001b[0m\u001b[0;34m)\u001b[0m\u001b[0;34m\u001b[0m\u001b[0;34m\u001b[0m\u001b[0m\n",
      "\u001b[0;31mTypeError\u001b[0m: expected 1D vector for x"
     ]
    }
   ],
   "source": [
    "x = np.polyfit(df_reg,y,2)\n",
    "reg.fit(x,y)\n",
    "print(\"r^2: %.3f\" % r2_score(reg.predict(x),y))"
   ]
  },
  {
   "cell_type": "code",
   "execution_count": null,
   "id": "77688f97",
   "metadata": {},
   "outputs": [],
   "source": []
  }
 ],
 "metadata": {
  "kernelspec": {
   "display_name": "Python 3",
   "language": "python",
   "name": "python3"
  },
  "language_info": {
   "codemirror_mode": {
    "name": "ipython",
    "version": 3
   },
   "file_extension": ".py",
   "mimetype": "text/x-python",
   "name": "python",
   "nbconvert_exporter": "python",
   "pygments_lexer": "ipython3",
   "version": "3.8.8"
  }
 },
 "nbformat": 4,
 "nbformat_minor": 5
}
