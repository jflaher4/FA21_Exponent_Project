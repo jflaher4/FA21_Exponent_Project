{
 "cells": [
  {
   "cell_type": "code",
   "execution_count": 1,
   "id": "9c83aeb9",
   "metadata": {},
   "outputs": [],
   "source": [
    "#imports\n",
    "import matplotlib.pyplot as plt\n",
    "import numpy as np\n",
    "import pandas as pd\n",
    "\n",
    "from statsmodels.stats.outliers_influence import variance_inflation_factor\n",
    "from statsmodels.tools.tools import add_constant\n",
    "\n",
    "from sklearn.model_selection import train_test_split\n",
    "from sklearn import linear_model\n",
    "from sklearn.linear_model import LinearRegression\n",
    "from sklearn.preprocessing import LabelEncoder, PolynomialFeatures\n",
    "from sklearn.metrics import r2_score, mean_squared_error"
   ]
  },
  {
   "cell_type": "code",
   "execution_count": 2,
   "id": "cfeb2e3e",
   "metadata": {},
   "outputs": [],
   "source": [
    "# import datasets\n",
    "df = pd.read_csv('../Data/train.csv')\n",
    "test = pd.read_csv('../Data/test.csv')"
   ]
  },
  {
   "cell_type": "code",
   "execution_count": 3,
   "id": "7cf438df",
   "metadata": {},
   "outputs": [
    {
     "data": {
      "text/html": [
       "<div>\n",
       "<style scoped>\n",
       "    .dataframe tbody tr th:only-of-type {\n",
       "        vertical-align: middle;\n",
       "    }\n",
       "\n",
       "    .dataframe tbody tr th {\n",
       "        vertical-align: top;\n",
       "    }\n",
       "\n",
       "    .dataframe thead th {\n",
       "        text-align: right;\n",
       "    }\n",
       "</style>\n",
       "<table border=\"1\" class=\"dataframe\">\n",
       "  <thead>\n",
       "    <tr style=\"text-align: right;\">\n",
       "      <th></th>\n",
       "      <th>const</th>\n",
       "      <th>TotalSF</th>\n",
       "      <th>YearRemodAdd</th>\n",
       "      <th>GarageArea</th>\n",
       "      <th>FullBath</th>\n",
       "    </tr>\n",
       "  </thead>\n",
       "  <tbody>\n",
       "    <tr>\n",
       "      <th>0</th>\n",
       "      <td>1.0</td>\n",
       "      <td>2566</td>\n",
       "      <td>2003</td>\n",
       "      <td>548</td>\n",
       "      <td>2</td>\n",
       "    </tr>\n",
       "    <tr>\n",
       "      <th>1</th>\n",
       "      <td>1.0</td>\n",
       "      <td>2524</td>\n",
       "      <td>1976</td>\n",
       "      <td>460</td>\n",
       "      <td>2</td>\n",
       "    </tr>\n",
       "    <tr>\n",
       "      <th>2</th>\n",
       "      <td>1.0</td>\n",
       "      <td>2706</td>\n",
       "      <td>2002</td>\n",
       "      <td>608</td>\n",
       "      <td>2</td>\n",
       "    </tr>\n",
       "    <tr>\n",
       "      <th>3</th>\n",
       "      <td>1.0</td>\n",
       "      <td>2473</td>\n",
       "      <td>1970</td>\n",
       "      <td>642</td>\n",
       "      <td>1</td>\n",
       "    </tr>\n",
       "    <tr>\n",
       "      <th>4</th>\n",
       "      <td>1.0</td>\n",
       "      <td>3343</td>\n",
       "      <td>2000</td>\n",
       "      <td>836</td>\n",
       "      <td>2</td>\n",
       "    </tr>\n",
       "  </tbody>\n",
       "</table>\n",
       "</div>"
      ],
      "text/plain": [
       "   const  TotalSF  YearRemodAdd  GarageArea  FullBath\n",
       "0    1.0     2566          2003         548         2\n",
       "1    1.0     2524          1976         460         2\n",
       "2    1.0     2706          2002         608         2\n",
       "3    1.0     2473          1970         642         1\n",
       "4    1.0     3343          2000         836         2"
      ]
     },
     "execution_count": 3,
     "metadata": {},
     "output_type": "execute_result"
    }
   ],
   "source": [
    "# new dataframe\n",
    "df['TotalSF'] = df['GrLivArea'] + df['TotalBsmtSF']\n",
    "df_reg = df[['TotalSF','YearRemodAdd','GarageArea','FullBath']]\n",
    "df_reg = add_constant(df_reg)\n",
    "df_reg.head(5)"
   ]
  },
  {
   "cell_type": "code",
   "execution_count": 4,
   "id": "14343bd0",
   "metadata": {},
   "outputs": [
    {
     "name": "stdout",
     "output_type": "stream",
     "text": [
      "TotalSF: 1.8412057624783007\n",
      "YearRemodAdd: 1.3119815681283826\n",
      "GarageArea: 1.5420442578519384\n",
      "FullBath: 1.6648989865616222\n"
     ]
    }
   ],
   "source": [
    "# check multicollinearity\n",
    "for index,col in enumerate(df_reg.columns):\n",
    "    if col == 'const': continue\n",
    "    print(f'{col}: {variance_inflation_factor(df_reg.values, index)}')"
   ]
  },
  {
   "cell_type": "code",
   "execution_count": 117,
   "id": "c00d6b5b",
   "metadata": {},
   "outputs": [],
   "source": [
    "df['LogSalePrice'] = np.log(df['SalePrice'])\n",
    "y = np.array(df['LogSalePrice']).reshape(-1, 1)\n",
    "\n",
    "reg = LinearRegression()\n",
    "poly = PolynomialFeatures(3)"
   ]
  },
  {
   "cell_type": "code",
   "execution_count": 118,
   "id": "6e9a378a",
   "metadata": {},
   "outputs": [
    {
     "name": "stdout",
     "output_type": "stream",
     "text": [
      "TotalSF: 1.5868682607348852\n",
      "FullBath: 1.495035754115986\n",
      "LotFrontage: 1.0789781844452568\n"
     ]
    }
   ],
   "source": [
    "df_reg = df[['TotalSF','FullBath','LotFrontage']].fillna(0)\n",
    "df_reg = add_constant(df_reg)\n",
    "\n",
    "for index,col in enumerate(df_reg.columns):\n",
    "    if col == 'const': continue\n",
    "    print(f'{col}: {variance_inflation_factor(df_reg.values, index)}')"
   ]
  },
  {
   "cell_type": "code",
   "execution_count": 119,
   "id": "5a00bf86",
   "metadata": {},
   "outputs": [
    {
     "name": "stdout",
     "output_type": "stream",
     "text": [
      "r^2: 0.580\n"
     ]
    }
   ],
   "source": [
    "#df_reg.drop(['const'],axis=1)\n",
    "y = df['SalePrice']\n",
    "x_ = poly.fit_transform(df_reg)\n",
    "\n",
    "reg.fit(x_, y)\n",
    "print(\"r^2: %.3f\" % r2_score(reg.predict(x_),y))"
   ]
  },
  {
   "cell_type": "code",
   "execution_count": 113,
   "id": "01b6cff2",
   "metadata": {},
   "outputs": [
    {
     "data": {
      "text/plain": [
       "<matplotlib.collections.PathCollection at 0x7fed900e15b0>"
      ]
     },
     "execution_count": 113,
     "metadata": {},
     "output_type": "execute_result"
    },
    {
     "data": {
      "image/png": "[encoded data removed]",
      "text/plain": [
       "<Figure size 432x288 with 1 Axes>"
      ]
     },
     "metadata": {
      "needs_background": "light"
     },
     "output_type": "display_data"
    }
   ],
   "source": [
    "plt.scatter(reg.predict(x_),y)"
   ]
  },
  {
   "cell_type": "code",
   "execution_count": 116,
   "id": "312b5206",
   "metadata": {},
   "outputs": [
    {
     "data": {
      "text/html": [
       "<div>\n",
       "<style scoped>\n",
       "    .dataframe tbody tr th:only-of-type {\n",
       "        vertical-align: middle;\n",
       "    }\n",
       "\n",
       "    .dataframe tbody tr th {\n",
       "        vertical-align: top;\n",
       "    }\n",
       "\n",
       "    .dataframe thead th {\n",
       "        text-align: right;\n",
       "    }\n",
       "</style>\n",
       "<table border=\"1\" class=\"dataframe\">\n",
       "  <thead>\n",
       "    <tr style=\"text-align: right;\">\n",
       "      <th></th>\n",
       "      <th>ID</th>\n",
       "      <th>SalePrice</th>\n",
       "    </tr>\n",
       "  </thead>\n",
       "  <tbody>\n",
       "    <tr>\n",
       "      <th>0</th>\n",
       "      <td>1461</td>\n",
       "      <td>122046.092143</td>\n",
       "    </tr>\n",
       "    <tr>\n",
       "      <th>1</th>\n",
       "      <td>1462</td>\n",
       "      <td>147296.127894</td>\n",
       "    </tr>\n",
       "    <tr>\n",
       "      <th>2</th>\n",
       "      <td>1463</td>\n",
       "      <td>189307.624059</td>\n",
       "    </tr>\n",
       "    <tr>\n",
       "      <th>3</th>\n",
       "      <td>1464</td>\n",
       "      <td>189524.434732</td>\n",
       "    </tr>\n",
       "    <tr>\n",
       "      <th>4</th>\n",
       "      <td>1465</td>\n",
       "      <td>168141.017638</td>\n",
       "    </tr>\n",
       "    <tr>\n",
       "      <th>...</th>\n",
       "      <td>...</td>\n",
       "      <td>...</td>\n",
       "    </tr>\n",
       "    <tr>\n",
       "      <th>1454</th>\n",
       "      <td>2915</td>\n",
       "      <td>104324.554622</td>\n",
       "    </tr>\n",
       "    <tr>\n",
       "      <th>1455</th>\n",
       "      <td>2916</td>\n",
       "      <td>104324.554622</td>\n",
       "    </tr>\n",
       "    <tr>\n",
       "      <th>1456</th>\n",
       "      <td>2917</td>\n",
       "      <td>152383.410460</td>\n",
       "    </tr>\n",
       "    <tr>\n",
       "      <th>1457</th>\n",
       "      <td>2918</td>\n",
       "      <td>128167.292636</td>\n",
       "    </tr>\n",
       "    <tr>\n",
       "      <th>1458</th>\n",
       "      <td>2919</td>\n",
       "      <td>207520.196599</td>\n",
       "    </tr>\n",
       "  </tbody>\n",
       "</table>\n",
       "<p>1459 rows × 2 columns</p>\n",
       "</div>"
      ],
      "text/plain": [
       "        ID      SalePrice\n",
       "0     1461  122046.092143\n",
       "1     1462  147296.127894\n",
       "2     1463  189307.624059\n",
       "3     1464  189524.434732\n",
       "4     1465  168141.017638\n",
       "...    ...            ...\n",
       "1454  2915  104324.554622\n",
       "1455  2916  104324.554622\n",
       "1456  2917  152383.410460\n",
       "1457  2918  128167.292636\n",
       "1458  2919  207520.196599\n",
       "\n",
       "[1459 rows x 2 columns]"
      ]
     },
     "execution_count": 116,
     "metadata": {},
     "output_type": "execute_result"
    }
   ],
   "source": [
    "test['TotalSF'] = test['GrLivArea'] + test['TotalBsmtSF']\n",
    "#x = test[['TotalSF','GarageArea']]\n",
    "\n",
    "#x_ = poly.fit_transform(x.fillna(0))\n",
    "\n",
    "test_vars = test[['TotalSF','YearRemodAdd','FullBath','LotFrontage']].fillna(0)\n",
    "test_vars = add_constant(test_vars)\n",
    "test_vars = poly.fit_transform(test_vars)\n",
    "pred = reg.predict(test_vars)\n",
    "pred = np.exp(pred)\n",
    "pred = pred.tolist()\n",
    "pred = [x[0] for x in pred]\n",
    "submission = pd.DataFrame({'ID': test['Id'],'SalePrice': pred})\n",
    "submission"
   ]
  },
  {
   "cell_type": "code",
   "execution_count": 95,
   "id": "2d7a35a0",
   "metadata": {},
   "outputs": [],
   "source": [
    "submission.to_csv('submission.csv', index=False)"
   ]
  },
  {
   "cell_type": "code",
   "execution_count": null,
   "id": "8a56d780",
   "metadata": {},
   "outputs": [],
   "source": []
  }
 ],
 "metadata": {
  "kernelspec": {
   "display_name": "Python 3",
   "language": "python",
   "name": "python3"
  },
  "language_info": {
   "codemirror_mode": {
    "name": "ipython",
    "version": 3
   },
   "file_extension": ".py",
   "mimetype": "text/x-python",
   "name": "python",
   "nbconvert_exporter": "python",
   "pygments_lexer": "ipython3",
   "version": "3.8.8"
  }
 },
 "nbformat": 4,
 "nbformat_minor": 5
}
