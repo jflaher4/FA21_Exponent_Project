{
 "cells": [
  {
   "cell_type": "code",
   "execution_count": 18,
   "id": "a609e8c7",
   "metadata": {},
   "outputs": [],
   "source": [
    "import pandas as pd\n",
    "import seaborn as sns"
   ]
  },
  {
   "cell_type": "code",
   "execution_count": 3,
   "id": "3cab871e",
   "metadata": {},
   "outputs": [],
   "source": [
    "dataset = pd.read_csv('../Data/train.csv')"
   ]
  },
  {
   "cell_type": "code",
   "execution_count": null,
   "id": "56a2e039",
   "metadata": {},
   "outputs": [],
   "source": [
    "# Splitting up variables into different types\n",
    "non_num_vars = [\n",
    "    'MSZoning', 'LandContour', 'Utilities',\n",
    "    'LotConfig', 'Neighborhood', 'Condition1', 'Condition2', 'BldgType',\n",
    "    'HouseStyle', 'RoofStyle', 'RoofMatl', 'Exterior1st', \n",
    "    'Exterior2nd', 'MasVnrType', 'Foundation', 'Heating', 'Electrical', \n",
    "    'GarageType', 'MiscFeature', \n",
    "    'SaleType', 'SaleCondition', 'Alley', 'Street', 'Landslope', 'Mosold', 'Yrsold'\n",
    "]\n",
    "rank_vars = [\n",
    "    'OverallCond', 'ExterQual', 'ExterCond', 'BsmtQual', 'BsmtCond',\n",
    "    'BsmtExposure', 'BsmtFinType1', 'BsmtFinType2', 'HeatingQC', 'KitchenQual',\n",
    "    'FireplaceQu', 'GarageQual', 'GarageCond', 'PoolQC', 'Fence',\n",
    "    'Functional', 'GarageFinish', 'PavedDrive', \n",
    "    'CentralAir', 'LotShape', 'MSSubClass', 'OverallQual'\n",
    "]\n",
    "continuous_vars = [\n",
    "    'LotFrontage', 'LotArea', \n",
    "    'MasVnrArea', 'BsmtFinSF1', 'BsmtFinSF2', 'BsmtUnfSF', 'TotalBsmtSF', '1stFlrSF', \n",
    "    '2ndFlrSF', 'LowQualFinSF', 'GrLivArea', 'GarageArea', 'WoodDeckSF', 'OpenPorchSF',\n",
    "    'EnclosedPorch', '3SsnPorch', 'ScreenPorch', 'PoolArea', 'MiscVal'\n",
    "]\n",
    "discrete_vars = [\n",
    "    'YrSold', 'YearBuilt', 'YearRemodAdd', 'AgeAtSale', \n",
    "    'BsmtFullBath', 'BsmtHalfBath', 'FullBath', \n",
    "    'HalfBath', 'BedroomAbvGr', 'KitchenAbvGr', 'TotRmsAbvGrd', \n",
    "    'Fireplaces', 'GarageYrBlt',\n",
    "    'GarageCars'\n",
    "]"
   ]
  },
  {
   "cell_type": "code",
   "execution_count": null,
   "id": "8d9f6a14",
   "metadata": {},
   "outputs": [],
   "source": [
    "# Add displots for each of the above\n",
    "# Robert"
   ]
  },
  {
   "cell_type": "code",
   "execution_count": 11,
   "id": "023dc2fd",
   "metadata": {},
   "outputs": [],
   "source": [
    "# Correlation matrix\n",
    "# Jack"
   ]
  },
  {
   "cell_type": "code",
   "execution_count": null,
   "id": "998e7ecb",
   "metadata": {},
   "outputs": [],
   "source": [
    "# Overall Quality and Lot Area\n",
    "# Daniel"
   ]
  },
  {
   "cell_type": "code",
   "execution_count": null,
   "id": "c5fba95f",
   "metadata": {},
   "outputs": [],
   "source": [
    "# Neighborhoods\n",
    "# look into LotArea\n",
    "# Daniel"
   ]
  },
  {
   "cell_type": "code",
   "execution_count": null,
   "id": "e62f1aa8",
   "metadata": {},
   "outputs": [],
   "source": [
    "# Total SF\n",
    "# Walker"
   ]
  },
  {
   "cell_type": "code",
   "execution_count": null,
   "id": "70e25f22",
   "metadata": {},
   "outputs": [],
   "source": [
    "# House age\n",
    "# Robert"
   ]
  },
  {
   "cell_type": "code",
   "execution_count": null,
   "id": "267c6faf",
   "metadata": {},
   "outputs": [],
   "source": [
    "# Garage area\n",
    "# Walker"
   ]
  },
  {
   "cell_type": "code",
   "execution_count": null,
   "id": "32db8f69",
   "metadata": {},
   "outputs": [],
   "source": [
    "# Fill in rest\n",
    "# Jack"
   ]
  }
 ],
 "metadata": {
  "kernelspec": {
   "display_name": "Python 3",
   "language": "python",
   "name": "python3"
  },
  "language_info": {
   "codemirror_mode": {
    "name": "ipython",
    "version": 3
   },
   "file_extension": ".py",
   "mimetype": "text/x-python",
   "name": "python",
   "nbconvert_exporter": "python",
   "pygments_lexer": "ipython3",
   "version": "3.8.5"
  }
 },
 "nbformat": 4,
 "nbformat_minor": 5
}
